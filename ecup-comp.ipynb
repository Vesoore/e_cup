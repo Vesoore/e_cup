{
 "cells": [
  {
   "cell_type": "code",
   "execution_count": 1,
   "id": "847874a0",
   "metadata": {
    "_cell_guid": "b1076dfc-b9ad-4769-8c92-a6c4dae69d19",
    "_uuid": "8f2839f25d086af736a60e9eeb907d3b93b6e0e5",
    "execution": {
     "iopub.execute_input": "2024-08-21T13:14:09.914908Z",
     "iopub.status.busy": "2024-08-21T13:14:09.914616Z",
     "iopub.status.idle": "2024-08-21T13:14:10.650242Z",
     "shell.execute_reply": "2024-08-21T13:14:10.649396Z"
    },
    "papermill": {
     "duration": 0.747134,
     "end_time": "2024-08-21T13:14:10.652495",
     "exception": false,
     "start_time": "2024-08-21T13:14:09.905361",
     "status": "completed"
    },
    "tags": []
   },
   "outputs": [
    {
     "name": "stdout",
     "output_type": "stream",
     "text": [
      "/kaggle/input/dataset/resnet.parquet\n",
      "/kaggle/input/dataset/train.parquet\n",
      "/kaggle/input/dataset/attributes.parquet\n",
      "/kaggle/input/dataset/test.parquet\n",
      "/kaggle/input/dataset/text_and_bert.parquet\n",
      "/kaggle/input/res-vecs/resnet_vecs.parquet\n"
     ]
    }
   ],
   "source": [
    "import numpy as np \n",
    "import pandas as pd  \n",
    "\n",
    "import os\n",
    "for dirname, _, filenames in os.walk('/kaggle/input'):\n",
    "    for filename in filenames:\n",
    "        print(os.path.join(dirname, filename))"
   ]
  },
  {
   "cell_type": "code",
   "execution_count": 2,
   "id": "c13d94e8",
   "metadata": {
    "execution": {
     "iopub.execute_input": "2024-08-21T13:14:10.669775Z",
     "iopub.status.busy": "2024-08-21T13:14:10.668988Z",
     "iopub.status.idle": "2024-08-21T13:14:10.672988Z",
     "shell.execute_reply": "2024-08-21T13:14:10.672146Z"
    },
    "papermill": {
     "duration": 0.014409,
     "end_time": "2024-08-21T13:14:10.674942",
     "exception": false,
     "start_time": "2024-08-21T13:14:10.660533",
     "status": "completed"
    },
    "tags": []
   },
   "outputs": [],
   "source": [
    "import json"
   ]
  },
  {
   "cell_type": "code",
   "execution_count": 3,
   "id": "3484ac1a",
   "metadata": {
    "execution": {
     "iopub.execute_input": "2024-08-21T13:14:10.691242Z",
     "iopub.status.busy": "2024-08-21T13:14:10.690805Z",
     "iopub.status.idle": "2024-08-21T13:15:22.696865Z",
     "shell.execute_reply": "2024-08-21T13:15:22.696085Z"
    },
    "papermill": {
     "duration": 72.016666,
     "end_time": "2024-08-21T13:15:22.699286",
     "exception": false,
     "start_time": "2024-08-21T13:14:10.682620",
     "status": "completed"
    },
    "tags": []
   },
   "outputs": [],
   "source": [
    "res_emb = pd.read_parquet(\"/kaggle/input/res-vecs\")\n",
    "attr = pd.read_parquet(\"/kaggle/input/dataset/attributes.parquet\")\n",
    "text_and_bert = pd.read_parquet(\"/kaggle/input/dataset/text_and_bert.parquet\")\n",
    "train = pd.read_parquet(\"/kaggle/input/dataset/train.parquet\")"
   ]
  },
  {
   "cell_type": "code",
   "execution_count": 4,
   "id": "48bce769",
   "metadata": {
    "execution": {
     "iopub.execute_input": "2024-08-21T13:15:22.716189Z",
     "iopub.status.busy": "2024-08-21T13:15:22.715910Z",
     "iopub.status.idle": "2024-08-21T13:15:22.722182Z",
     "shell.execute_reply": "2024-08-21T13:15:22.721415Z"
    },
    "papermill": {
     "duration": 0.016795,
     "end_time": "2024-08-21T13:15:22.724177",
     "exception": false,
     "start_time": "2024-08-21T13:15:22.707382",
     "status": "completed"
    },
    "tags": []
   },
   "outputs": [
    {
     "data": {
      "text/plain": [
       "(2252569, 2)"
      ]
     },
     "execution_count": 4,
     "metadata": {},
     "output_type": "execute_result"
    }
   ],
   "source": [
    "res_emb.shape"
   ]
  },
  {
   "cell_type": "code",
   "execution_count": 5,
   "id": "6b3e0553",
   "metadata": {
    "execution": {
     "iopub.execute_input": "2024-08-21T13:15:22.740583Z",
     "iopub.status.busy": "2024-08-21T13:15:22.740321Z",
     "iopub.status.idle": "2024-08-21T13:15:22.818648Z",
     "shell.execute_reply": "2024-08-21T13:15:22.817782Z"
    },
    "papermill": {
     "duration": 0.088814,
     "end_time": "2024-08-21T13:15:22.820749",
     "exception": false,
     "start_time": "2024-08-21T13:15:22.731935",
     "status": "completed"
    },
    "tags": []
   },
   "outputs": [
    {
     "data": {
      "text/html": [
       "<div>\n",
       "<style scoped>\n",
       "    .dataframe tbody tr th:only-of-type {\n",
       "        vertical-align: middle;\n",
       "    }\n",
       "\n",
       "    .dataframe tbody tr th {\n",
       "        vertical-align: top;\n",
       "    }\n",
       "\n",
       "    .dataframe thead th {\n",
       "        text-align: right;\n",
       "    }\n",
       "</style>\n",
       "<table border=\"1\" class=\"dataframe\">\n",
       "  <thead>\n",
       "    <tr style=\"text-align: right;\">\n",
       "      <th></th>\n",
       "      <th>variantid</th>\n",
       "    </tr>\n",
       "  </thead>\n",
       "  <tbody>\n",
       "    <tr>\n",
       "      <th>count</th>\n",
       "      <td>2.252569e+06</td>\n",
       "    </tr>\n",
       "    <tr>\n",
       "      <th>mean</th>\n",
       "      <td>9.948317e+08</td>\n",
       "    </tr>\n",
       "    <tr>\n",
       "      <th>std</th>\n",
       "      <td>4.435626e+08</td>\n",
       "    </tr>\n",
       "    <tr>\n",
       "      <th>min</th>\n",
       "      <td>4.710496e+07</td>\n",
       "    </tr>\n",
       "    <tr>\n",
       "      <th>25%</th>\n",
       "      <td>6.771670e+08</td>\n",
       "    </tr>\n",
       "    <tr>\n",
       "      <th>50%</th>\n",
       "      <td>1.031502e+09</td>\n",
       "    </tr>\n",
       "    <tr>\n",
       "      <th>75%</th>\n",
       "      <td>1.416161e+09</td>\n",
       "    </tr>\n",
       "    <tr>\n",
       "      <th>max</th>\n",
       "      <td>1.811792e+09</td>\n",
       "    </tr>\n",
       "  </tbody>\n",
       "</table>\n",
       "</div>"
      ],
      "text/plain": [
       "          variantid\n",
       "count  2.252569e+06\n",
       "mean   9.948317e+08\n",
       "std    4.435626e+08\n",
       "min    4.710496e+07\n",
       "25%    6.771670e+08\n",
       "50%    1.031502e+09\n",
       "75%    1.416161e+09\n",
       "max    1.811792e+09"
      ]
     },
     "execution_count": 5,
     "metadata": {},
     "output_type": "execute_result"
    }
   ],
   "source": [
    "res_emb.describe()"
   ]
  },
  {
   "cell_type": "code",
   "execution_count": 6,
   "id": "f9838c11",
   "metadata": {
    "execution": {
     "iopub.execute_input": "2024-08-21T13:15:22.838115Z",
     "iopub.status.busy": "2024-08-21T13:15:22.837862Z",
     "iopub.status.idle": "2024-08-21T13:15:22.921976Z",
     "shell.execute_reply": "2024-08-21T13:15:22.921048Z"
    },
    "papermill": {
     "duration": 0.095314,
     "end_time": "2024-08-21T13:15:22.924357",
     "exception": false,
     "start_time": "2024-08-21T13:15:22.829043",
     "status": "completed"
    },
    "tags": []
   },
   "outputs": [
    {
     "data": {
      "text/html": [
       "<div>\n",
       "<style scoped>\n",
       "    .dataframe tbody tr th:only-of-type {\n",
       "        vertical-align: middle;\n",
       "    }\n",
       "\n",
       "    .dataframe tbody tr th {\n",
       "        vertical-align: top;\n",
       "    }\n",
       "\n",
       "    .dataframe thead th {\n",
       "        text-align: right;\n",
       "    }\n",
       "</style>\n",
       "<table border=\"1\" class=\"dataframe\">\n",
       "  <thead>\n",
       "    <tr style=\"text-align: right;\">\n",
       "      <th></th>\n",
       "      <th>variantid</th>\n",
       "      <th>main_pic_embeddings_resnet_v1</th>\n",
       "    </tr>\n",
       "  </thead>\n",
       "  <tbody>\n",
       "    <tr>\n",
       "      <th>1088200</th>\n",
       "      <td>1512877189</td>\n",
       "      <td>[[0.2573447823524475, -0.6143703460693359, -0....</td>\n",
       "    </tr>\n",
       "    <tr>\n",
       "      <th>1070980</th>\n",
       "      <td>653008639</td>\n",
       "      <td>[[0.3570740222930908, 0.11138229072093964, 0.2...</td>\n",
       "    </tr>\n",
       "    <tr>\n",
       "      <th>959081</th>\n",
       "      <td>947614084</td>\n",
       "      <td>[[-0.8084595203399658, 0.2795477509498596, -0....</td>\n",
       "    </tr>\n",
       "    <tr>\n",
       "      <th>99116</th>\n",
       "      <td>229280906</td>\n",
       "      <td>[[-0.2573661804199219, -0.02624959498643875, 0...</td>\n",
       "    </tr>\n",
       "    <tr>\n",
       "      <th>2233049</th>\n",
       "      <td>1481386316</td>\n",
       "      <td>[[-1.069042682647705, -0.061635926365852356, 0...</td>\n",
       "    </tr>\n",
       "    <tr>\n",
       "      <th>2238513</th>\n",
       "      <td>59984537</td>\n",
       "      <td>[[0.1674749255180359, -0.40446484088897705, 0....</td>\n",
       "    </tr>\n",
       "    <tr>\n",
       "      <th>1333025</th>\n",
       "      <td>493394929</td>\n",
       "      <td>[[-0.3976268470287323, 0.36692526936531067, 0....</td>\n",
       "    </tr>\n",
       "    <tr>\n",
       "      <th>283137</th>\n",
       "      <td>782643981</td>\n",
       "      <td>[[-0.2913280129432678, -0.5056429505348206, -1...</td>\n",
       "    </tr>\n",
       "    <tr>\n",
       "      <th>1585276</th>\n",
       "      <td>1534169213</td>\n",
       "      <td>[[0.3392981290817261, -1.111600637435913, 1.75...</td>\n",
       "    </tr>\n",
       "    <tr>\n",
       "      <th>855417</th>\n",
       "      <td>733328030</td>\n",
       "      <td>[[-1.0181916952133179, 0.024633213877677917, -...</td>\n",
       "    </tr>\n",
       "  </tbody>\n",
       "</table>\n",
       "</div>"
      ],
      "text/plain": [
       "          variantid                      main_pic_embeddings_resnet_v1\n",
       "1088200  1512877189  [[0.2573447823524475, -0.6143703460693359, -0....\n",
       "1070980   653008639  [[0.3570740222930908, 0.11138229072093964, 0.2...\n",
       "959081    947614084  [[-0.8084595203399658, 0.2795477509498596, -0....\n",
       "99116     229280906  [[-0.2573661804199219, -0.02624959498643875, 0...\n",
       "2233049  1481386316  [[-1.069042682647705, -0.061635926365852356, 0...\n",
       "2238513    59984537  [[0.1674749255180359, -0.40446484088897705, 0....\n",
       "1333025   493394929  [[-0.3976268470287323, 0.36692526936531067, 0....\n",
       "283137    782643981  [[-0.2913280129432678, -0.5056429505348206, -1...\n",
       "1585276  1534169213  [[0.3392981290817261, -1.111600637435913, 1.75...\n",
       "855417    733328030  [[-1.0181916952133179, 0.024633213877677917, -..."
      ]
     },
     "execution_count": 6,
     "metadata": {},
     "output_type": "execute_result"
    }
   ],
   "source": [
    "res_emb.sample(10)"
   ]
  },
  {
   "cell_type": "code",
   "execution_count": 7,
   "id": "dcec5ecb",
   "metadata": {
    "execution": {
     "iopub.execute_input": "2024-08-21T13:15:22.943426Z",
     "iopub.status.busy": "2024-08-21T13:15:22.943148Z",
     "iopub.status.idle": "2024-08-21T13:15:23.156004Z",
     "shell.execute_reply": "2024-08-21T13:15:23.155085Z"
    },
    "papermill": {
     "duration": 0.223913,
     "end_time": "2024-08-21T13:15:23.158161",
     "exception": false,
     "start_time": "2024-08-21T13:15:22.934248",
     "status": "completed"
    },
    "tags": []
   },
   "outputs": [
    {
     "data": {
      "text/plain": [
       "variantid                        0\n",
       "main_pic_embeddings_resnet_v1    0\n",
       "dtype: int64"
      ]
     },
     "execution_count": 7,
     "metadata": {},
     "output_type": "execute_result"
    }
   ],
   "source": [
    "res_emb.isna().sum()"
   ]
  },
  {
   "cell_type": "code",
   "execution_count": 8,
   "id": "a2ca7fc3",
   "metadata": {
    "execution": {
     "iopub.execute_input": "2024-08-21T13:15:23.176864Z",
     "iopub.status.busy": "2024-08-21T13:15:23.176584Z",
     "iopub.status.idle": "2024-08-21T13:15:23.242185Z",
     "shell.execute_reply": "2024-08-21T13:15:23.241137Z"
    },
    "papermill": {
     "duration": 0.077026,
     "end_time": "2024-08-21T13:15:23.244382",
     "exception": false,
     "start_time": "2024-08-21T13:15:23.167356",
     "status": "completed"
    },
    "tags": []
   },
   "outputs": [
    {
     "data": {
      "text/html": [
       "<div>\n",
       "<style scoped>\n",
       "    .dataframe tbody tr th:only-of-type {\n",
       "        vertical-align: middle;\n",
       "    }\n",
       "\n",
       "    .dataframe tbody tr th {\n",
       "        vertical-align: top;\n",
       "    }\n",
       "\n",
       "    .dataframe thead th {\n",
       "        text-align: right;\n",
       "    }\n",
       "</style>\n",
       "<table border=\"1\" class=\"dataframe\">\n",
       "  <thead>\n",
       "    <tr style=\"text-align: right;\">\n",
       "      <th></th>\n",
       "      <th>variantid</th>\n",
       "      <th>categories</th>\n",
       "      <th>characteristic_attributes_mapping</th>\n",
       "    </tr>\n",
       "  </thead>\n",
       "  <tbody>\n",
       "    <tr>\n",
       "      <th>978948</th>\n",
       "      <td>1327715250</td>\n",
       "      <td>{\"1\": \"Одежда и обувь\", \"2\": \"Обувь\", \"3\": \"По...</td>\n",
       "      <td>{\"Вид каблука\": [\"Платформа\"], \"Российский раз...</td>\n",
       "    </tr>\n",
       "    <tr>\n",
       "      <th>699792</th>\n",
       "      <td>436802496</td>\n",
       "      <td>{\"1\": \"EPG\", \"2\": \"Строительство и ремонт\", \"3...</td>\n",
       "      <td>{\"Срок годности в днях\": [\"365\"], \"Работы\": [\"...</td>\n",
       "    </tr>\n",
       "    <tr>\n",
       "      <th>922949</th>\n",
       "      <td>1327052644</td>\n",
       "      <td>{\"1\": \"EPG\", \"2\": \"Дом и сад\", \"3\": \"Инвентарь...</td>\n",
       "      <td>{\"Цвет товара\": [\"серебристый\"], \"Артикул\": [\"...</td>\n",
       "    </tr>\n",
       "    <tr>\n",
       "      <th>1629078</th>\n",
       "      <td>708551740</td>\n",
       "      <td>{\"1\": \"Книги и цифровые книги\", \"2\": \"Книги\", ...</td>\n",
       "      <td>{\"Год выпуска\": [\"2020\"], \"Количество страниц\"...</td>\n",
       "    </tr>\n",
       "    <tr>\n",
       "      <th>1543844</th>\n",
       "      <td>373612013</td>\n",
       "      <td>{\"1\": \"EPG\", \"2\": \"Мебель\", \"3\": \"Матрасы\", \"4...</td>\n",
       "      <td>{\"Артикул\": [\"DE154136\"], \"Форма поставки матр...</td>\n",
       "    </tr>\n",
       "    <tr>\n",
       "      <th>491855</th>\n",
       "      <td>1343691951</td>\n",
       "      <td>{\"1\": \"EPG\", \"2\": \"Строительство и ремонт\", \"3...</td>\n",
       "      <td>{\"Комплектация\": [\"Переход эксцентрический  32...</td>\n",
       "    </tr>\n",
       "    <tr>\n",
       "      <th>1370589</th>\n",
       "      <td>622048015</td>\n",
       "      <td>{\"1\": \"EPG\", \"2\": \"Мебель\", \"3\": \"Стулья, скам...</td>\n",
       "      <td>{\"Глубина, см\": [\"59.5\"], \"Материал корпуса\": ...</td>\n",
       "    </tr>\n",
       "    <tr>\n",
       "      <th>1181351</th>\n",
       "      <td>1434038671</td>\n",
       "      <td>{\"1\": \"EPG\", \"2\": \"Красота и гигиена\", \"3\": \"Д...</td>\n",
       "      <td>{\"Цвет товара\": [\"бежевый\"], \"Бренд\": [\"Reloui...</td>\n",
       "    </tr>\n",
       "    <tr>\n",
       "      <th>335888</th>\n",
       "      <td>965199958</td>\n",
       "      <td>{\"1\": \"Одежда и обувь\", \"2\": \"Одежда\", \"3\": \"О...</td>\n",
       "      <td>{\"Тип\": [\"Костюм классический\"], \"Страна-изгот...</td>\n",
       "    </tr>\n",
       "    <tr>\n",
       "      <th>817725</th>\n",
       "      <td>673301691</td>\n",
       "      <td>{\"1\": \"EPG\", \"2\": \"Дом и сад\", \"3\": \"Столовая ...</td>\n",
       "      <td>{\"Артикул\": [\"6884027\"], \"Комплектация\": [\"См....</td>\n",
       "    </tr>\n",
       "  </tbody>\n",
       "</table>\n",
       "</div>"
      ],
      "text/plain": [
       "          variantid                                         categories  \\\n",
       "978948   1327715250  {\"1\": \"Одежда и обувь\", \"2\": \"Обувь\", \"3\": \"По...   \n",
       "699792    436802496  {\"1\": \"EPG\", \"2\": \"Строительство и ремонт\", \"3...   \n",
       "922949   1327052644  {\"1\": \"EPG\", \"2\": \"Дом и сад\", \"3\": \"Инвентарь...   \n",
       "1629078   708551740  {\"1\": \"Книги и цифровые книги\", \"2\": \"Книги\", ...   \n",
       "1543844   373612013  {\"1\": \"EPG\", \"2\": \"Мебель\", \"3\": \"Матрасы\", \"4...   \n",
       "491855   1343691951  {\"1\": \"EPG\", \"2\": \"Строительство и ремонт\", \"3...   \n",
       "1370589   622048015  {\"1\": \"EPG\", \"2\": \"Мебель\", \"3\": \"Стулья, скам...   \n",
       "1181351  1434038671  {\"1\": \"EPG\", \"2\": \"Красота и гигиена\", \"3\": \"Д...   \n",
       "335888    965199958  {\"1\": \"Одежда и обувь\", \"2\": \"Одежда\", \"3\": \"О...   \n",
       "817725    673301691  {\"1\": \"EPG\", \"2\": \"Дом и сад\", \"3\": \"Столовая ...   \n",
       "\n",
       "                         characteristic_attributes_mapping  \n",
       "978948   {\"Вид каблука\": [\"Платформа\"], \"Российский раз...  \n",
       "699792   {\"Срок годности в днях\": [\"365\"], \"Работы\": [\"...  \n",
       "922949   {\"Цвет товара\": [\"серебристый\"], \"Артикул\": [\"...  \n",
       "1629078  {\"Год выпуска\": [\"2020\"], \"Количество страниц\"...  \n",
       "1543844  {\"Артикул\": [\"DE154136\"], \"Форма поставки матр...  \n",
       "491855   {\"Комплектация\": [\"Переход эксцентрический  32...  \n",
       "1370589  {\"Глубина, см\": [\"59.5\"], \"Материал корпуса\": ...  \n",
       "1181351  {\"Цвет товара\": [\"бежевый\"], \"Бренд\": [\"Reloui...  \n",
       "335888   {\"Тип\": [\"Костюм классический\"], \"Страна-изгот...  \n",
       "817725   {\"Артикул\": [\"6884027\"], \"Комплектация\": [\"См....  "
      ]
     },
     "execution_count": 8,
     "metadata": {},
     "output_type": "execute_result"
    }
   ],
   "source": [
    "attr.sample(10)"
   ]
  },
  {
   "cell_type": "code",
   "execution_count": 9,
   "id": "69df8547",
   "metadata": {
    "execution": {
     "iopub.execute_input": "2024-08-21T13:15:23.265465Z",
     "iopub.status.busy": "2024-08-21T13:15:23.265140Z",
     "iopub.status.idle": "2024-08-21T13:15:23.271278Z",
     "shell.execute_reply": "2024-08-21T13:15:23.270299Z"
    },
    "papermill": {
     "duration": 0.018992,
     "end_time": "2024-08-21T13:15:23.273333",
     "exception": false,
     "start_time": "2024-08-21T13:15:23.254341",
     "status": "completed"
    },
    "tags": []
   },
   "outputs": [
    {
     "data": {
      "text/plain": [
       "'{\"Цвет товара\": [\"бежевый\", \"светло-розовый\"], \"Пол ребенка\": [\"Унисекс\"], \"Бренд\": [\"Funny Ducks\"], \"Тип\": [\"Игрушка для ванной\"], \"Страна-изготовитель\": [\"Китай\"], \"Развитие навыков\": [\"Воображение\", \"Кругозор\", \"Моторика\"], \"Код ТРУ\": [\"320000000.03051400500000000000\"], \"Минимальный возраст ребенка\": [\"От 3 лет\"], \"Материал\": [\"ПВХ пластизоль\"], \"Вес товара, г\": [\"50\"], \"Максимальный возраст ребенка\": [\"До 18 лет\"]}'"
      ]
     },
     "execution_count": 9,
     "metadata": {},
     "output_type": "execute_result"
    }
   ],
   "source": [
    "attr['characteristic_attributes_mapping'][0]"
   ]
  },
  {
   "cell_type": "code",
   "execution_count": 10,
   "id": "a2fada57",
   "metadata": {
    "execution": {
     "iopub.execute_input": "2024-08-21T13:15:23.294484Z",
     "iopub.status.busy": "2024-08-21T13:15:23.294186Z",
     "iopub.status.idle": "2024-08-21T13:15:23.366203Z",
     "shell.execute_reply": "2024-08-21T13:15:23.365472Z"
    },
    "papermill": {
     "duration": 0.084979,
     "end_time": "2024-08-21T13:15:23.368254",
     "exception": false,
     "start_time": "2024-08-21T13:15:23.283275",
     "status": "completed"
    },
    "tags": []
   },
   "outputs": [
    {
     "data": {
      "text/html": [
       "<div>\n",
       "<style scoped>\n",
       "    .dataframe tbody tr th:only-of-type {\n",
       "        vertical-align: middle;\n",
       "    }\n",
       "\n",
       "    .dataframe tbody tr th {\n",
       "        vertical-align: top;\n",
       "    }\n",
       "\n",
       "    .dataframe thead th {\n",
       "        text-align: right;\n",
       "    }\n",
       "</style>\n",
       "<table border=\"1\" class=\"dataframe\">\n",
       "  <thead>\n",
       "    <tr style=\"text-align: right;\">\n",
       "      <th></th>\n",
       "      <th>variantid</th>\n",
       "      <th>name</th>\n",
       "      <th>description</th>\n",
       "      <th>name_bert_64</th>\n",
       "    </tr>\n",
       "  </thead>\n",
       "  <tbody>\n",
       "    <tr>\n",
       "      <th>688278</th>\n",
       "      <td>1299326580</td>\n",
       "      <td>Джип радиоуправляемый Багги, 1:15, движение во...</td>\n",
       "      <td>Тип питания: От аккумулятора&lt;br&gt;Набор: Нет&lt;br&gt;...</td>\n",
       "      <td>[-0.6285741329193115, 0.22786997258663177, 0.6...</td>\n",
       "    </tr>\n",
       "    <tr>\n",
       "      <th>115408</th>\n",
       "      <td>1111638315</td>\n",
       "      <td>ТЭН гибкий, HTR209RF 10,0м 400Вт</td>\n",
       "      <td>ТЭН гибкий, HTR209RF 10,0м 400Вт</td>\n",
       "      <td>[-0.46843475103378296, 0.5147101283073425, 0.7...</td>\n",
       "    </tr>\n",
       "    <tr>\n",
       "      <th>197611</th>\n",
       "      <td>311783471</td>\n",
       "      <td>Пряжа Lanoso Bonito ethnic: 1213 (Зеленый Микс...</td>\n",
       "      <td>&lt;/br&gt;Состав: Акрил 51%, Шерсть 49%&lt;/br&gt;Вес мо...</td>\n",
       "      <td>[-0.5874150395393372, 0.5596058368682861, 0.68...</td>\n",
       "    </tr>\n",
       "    <tr>\n",
       "      <th>1710946</th>\n",
       "      <td>1344499753</td>\n",
       "      <td>Дарите Счастье, Коробка складная \"Новогодний в...</td>\n",
       "      <td>Упаковка подарка в подарочную картонную коробк...</td>\n",
       "      <td>[-0.17244376242160797, 0.6338537931442261, 0.6...</td>\n",
       "    </tr>\n",
       "    <tr>\n",
       "      <th>622364</th>\n",
       "      <td>1174855865</td>\n",
       "      <td>Сапоги FLCT Демисезон</td>\n",
       "      <td>Женская обувь торговой марки \"FLCT\" рада предс...</td>\n",
       "      <td>[-0.5882687568664551, 0.49095138907432556, 0.4...</td>\n",
       "    </tr>\n",
       "    <tr>\n",
       "      <th>1698998</th>\n",
       "      <td>498853538</td>\n",
       "      <td>Картина по номерам, 60 x 90, IIIR-pr-270, аним...</td>\n",
       "      <td>Все верно, эта картина по номерам действительн...</td>\n",
       "      <td>[-0.6822274923324585, 0.5264473557472229, 0.61...</td>\n",
       "    </tr>\n",
       "    <tr>\n",
       "      <th>1266718</th>\n",
       "      <td>54562898</td>\n",
       "      <td>Baile Pretty Love Вибропуля, 10 см</td>\n",
       "      <td>Это восхитительное беспроводное маленькое глад...</td>\n",
       "      <td>[-0.48881781101226807, 0.7182080745697021, 0.3...</td>\n",
       "    </tr>\n",
       "    <tr>\n",
       "      <th>1581110</th>\n",
       "      <td>115214160</td>\n",
       "      <td>Развитие речи и мышления. Рисуем красками. Лис...</td>\n",
       "      <td>&lt;p&gt;Развиваем мышление и речь ребёнка с новыми ...</td>\n",
       "      <td>[-0.7169352769851685, 0.42138808965682983, 0.5...</td>\n",
       "    </tr>\n",
       "    <tr>\n",
       "      <th>1312627</th>\n",
       "      <td>1484478043</td>\n",
       "      <td>Riccardo E 4.1 R Настольная лампа Arti Lampadari</td>\n",
       "      <td>Riccardo E 4.1 R Настольная лампа Arti Lampadari</td>\n",
       "      <td>[-0.5724956393241882, 0.3411616086959839, 0.72...</td>\n",
       "    </tr>\n",
       "    <tr>\n",
       "      <th>1560325</th>\n",
       "      <td>1221095001</td>\n",
       "      <td>Prime Zoo Грунт Кварц розовый, натуральный, 3-...</td>\n",
       "      <td>Грунт PRIME Кварц розовый, 3-5 мм, 1 кг Грунт ...</td>\n",
       "      <td>[-0.44412827491760254, 0.6517946720123291, 0.3...</td>\n",
       "    </tr>\n",
       "  </tbody>\n",
       "</table>\n",
       "</div>"
      ],
      "text/plain": [
       "          variantid                                               name  \\\n",
       "688278   1299326580  Джип радиоуправляемый Багги, 1:15, движение во...   \n",
       "115408   1111638315                   ТЭН гибкий, HTR209RF 10,0м 400Вт   \n",
       "197611    311783471  Пряжа Lanoso Bonito ethnic: 1213 (Зеленый Микс...   \n",
       "1710946  1344499753  Дарите Счастье, Коробка складная \"Новогодний в...   \n",
       "622364   1174855865                              Сапоги FLCT Демисезон   \n",
       "1698998   498853538  Картина по номерам, 60 x 90, IIIR-pr-270, аним...   \n",
       "1266718    54562898                 Baile Pretty Love Вибропуля, 10 см   \n",
       "1581110   115214160  Развитие речи и мышления. Рисуем красками. Лис...   \n",
       "1312627  1484478043   Riccardo E 4.1 R Настольная лампа Arti Lampadari   \n",
       "1560325  1221095001  Prime Zoo Грунт Кварц розовый, натуральный, 3-...   \n",
       "\n",
       "                                               description  \\\n",
       "688278   Тип питания: От аккумулятора<br>Набор: Нет<br>...   \n",
       "115408                    ТЭН гибкий, HTR209RF 10,0м 400Вт   \n",
       "197611    </br>Состав: Акрил 51%, Шерсть 49%</br>Вес мо...   \n",
       "1710946  Упаковка подарка в подарочную картонную коробк...   \n",
       "622364   Женская обувь торговой марки \"FLCT\" рада предс...   \n",
       "1698998  Все верно, эта картина по номерам действительн...   \n",
       "1266718  Это восхитительное беспроводное маленькое глад...   \n",
       "1581110  <p>Развиваем мышление и речь ребёнка с новыми ...   \n",
       "1312627   Riccardo E 4.1 R Настольная лампа Arti Lampadari   \n",
       "1560325  Грунт PRIME Кварц розовый, 3-5 мм, 1 кг Грунт ...   \n",
       "\n",
       "                                              name_bert_64  \n",
       "688278   [-0.6285741329193115, 0.22786997258663177, 0.6...  \n",
       "115408   [-0.46843475103378296, 0.5147101283073425, 0.7...  \n",
       "197611   [-0.5874150395393372, 0.5596058368682861, 0.68...  \n",
       "1710946  [-0.17244376242160797, 0.6338537931442261, 0.6...  \n",
       "622364   [-0.5882687568664551, 0.49095138907432556, 0.4...  \n",
       "1698998  [-0.6822274923324585, 0.5264473557472229, 0.61...  \n",
       "1266718  [-0.48881781101226807, 0.7182080745697021, 0.3...  \n",
       "1581110  [-0.7169352769851685, 0.42138808965682983, 0.5...  \n",
       "1312627  [-0.5724956393241882, 0.3411616086959839, 0.72...  \n",
       "1560325  [-0.44412827491760254, 0.6517946720123291, 0.3...  "
      ]
     },
     "execution_count": 10,
     "metadata": {},
     "output_type": "execute_result"
    }
   ],
   "source": [
    "text_and_bert.sample(10)"
   ]
  },
  {
   "cell_type": "code",
   "execution_count": 11,
   "id": "37f1dfee",
   "metadata": {
    "execution": {
     "iopub.execute_input": "2024-08-21T13:15:23.387762Z",
     "iopub.status.busy": "2024-08-21T13:15:23.387500Z",
     "iopub.status.idle": "2024-08-21T13:15:23.392916Z",
     "shell.execute_reply": "2024-08-21T13:15:23.392078Z"
    },
    "papermill": {
     "duration": 0.017282,
     "end_time": "2024-08-21T13:15:23.394836",
     "exception": false,
     "start_time": "2024-08-21T13:15:23.377554",
     "status": "completed"
    },
    "tags": []
   },
   "outputs": [
    {
     "data": {
      "text/plain": [
       "(2252569, 4)"
      ]
     },
     "execution_count": 11,
     "metadata": {},
     "output_type": "execute_result"
    }
   ],
   "source": [
    "text_and_bert.shape"
   ]
  },
  {
   "cell_type": "code",
   "execution_count": 12,
   "id": "76beb3c2",
   "metadata": {
    "execution": {
     "iopub.execute_input": "2024-08-21T13:15:23.414030Z",
     "iopub.status.busy": "2024-08-21T13:15:23.413793Z",
     "iopub.status.idle": "2024-08-21T13:15:23.419040Z",
     "shell.execute_reply": "2024-08-21T13:15:23.418275Z"
    },
    "papermill": {
     "duration": 0.016968,
     "end_time": "2024-08-21T13:15:23.420914",
     "exception": false,
     "start_time": "2024-08-21T13:15:23.403946",
     "status": "completed"
    },
    "tags": []
   },
   "outputs": [
    {
     "data": {
      "text/plain": [
       "64"
      ]
     },
     "execution_count": 12,
     "metadata": {},
     "output_type": "execute_result"
    }
   ],
   "source": [
    "len(text_and_bert['name_bert_64'][0])"
   ]
  },
  {
   "cell_type": "code",
   "execution_count": 13,
   "id": "015a8504",
   "metadata": {
    "execution": {
     "iopub.execute_input": "2024-08-21T13:15:23.440477Z",
     "iopub.status.busy": "2024-08-21T13:15:23.440185Z",
     "iopub.status.idle": "2024-08-21T13:15:23.449098Z",
     "shell.execute_reply": "2024-08-21T13:15:23.448260Z"
    },
    "papermill": {
     "duration": 0.020813,
     "end_time": "2024-08-21T13:15:23.451006",
     "exception": false,
     "start_time": "2024-08-21T13:15:23.430193",
     "status": "completed"
    },
    "tags": []
   },
   "outputs": [
    {
     "data": {
      "text/html": [
       "<div>\n",
       "<style scoped>\n",
       "    .dataframe tbody tr th:only-of-type {\n",
       "        vertical-align: middle;\n",
       "    }\n",
       "\n",
       "    .dataframe tbody tr th {\n",
       "        vertical-align: top;\n",
       "    }\n",
       "\n",
       "    .dataframe thead th {\n",
       "        text-align: right;\n",
       "    }\n",
       "</style>\n",
       "<table border=\"1\" class=\"dataframe\">\n",
       "  <thead>\n",
       "    <tr style=\"text-align: right;\">\n",
       "      <th></th>\n",
       "      <th>variantid1</th>\n",
       "      <th>variantid2</th>\n",
       "      <th>target</th>\n",
       "    </tr>\n",
       "  </thead>\n",
       "  <tbody>\n",
       "    <tr>\n",
       "      <th>0</th>\n",
       "      <td>1447875869</td>\n",
       "      <td>1447872068</td>\n",
       "      <td>1</td>\n",
       "    </tr>\n",
       "    <tr>\n",
       "      <th>1</th>\n",
       "      <td>1176231201</td>\n",
       "      <td>284733670</td>\n",
       "      <td>1</td>\n",
       "    </tr>\n",
       "    <tr>\n",
       "      <th>2</th>\n",
       "      <td>658617865</td>\n",
       "      <td>549848659</td>\n",
       "      <td>0</td>\n",
       "    </tr>\n",
       "    <tr>\n",
       "      <th>3</th>\n",
       "      <td>719320625</td>\n",
       "      <td>719370486</td>\n",
       "      <td>1</td>\n",
       "    </tr>\n",
       "    <tr>\n",
       "      <th>4</th>\n",
       "      <td>1067645658</td>\n",
       "      <td>949954740</td>\n",
       "      <td>0</td>\n",
       "    </tr>\n",
       "    <tr>\n",
       "      <th>5</th>\n",
       "      <td>504121134</td>\n",
       "      <td>304997246</td>\n",
       "      <td>0</td>\n",
       "    </tr>\n",
       "    <tr>\n",
       "      <th>6</th>\n",
       "      <td>690909146</td>\n",
       "      <td>1044397832</td>\n",
       "      <td>1</td>\n",
       "    </tr>\n",
       "    <tr>\n",
       "      <th>7</th>\n",
       "      <td>691943502</td>\n",
       "      <td>691868704</td>\n",
       "      <td>0</td>\n",
       "    </tr>\n",
       "    <tr>\n",
       "      <th>8</th>\n",
       "      <td>479881093</td>\n",
       "      <td>256110461</td>\n",
       "      <td>1</td>\n",
       "    </tr>\n",
       "    <tr>\n",
       "      <th>9</th>\n",
       "      <td>905617449</td>\n",
       "      <td>905617985</td>\n",
       "      <td>0</td>\n",
       "    </tr>\n",
       "    <tr>\n",
       "      <th>10</th>\n",
       "      <td>1480713775</td>\n",
       "      <td>1382097913</td>\n",
       "      <td>1</td>\n",
       "    </tr>\n",
       "    <tr>\n",
       "      <th>11</th>\n",
       "      <td>534922190</td>\n",
       "      <td>632061463</td>\n",
       "      <td>0</td>\n",
       "    </tr>\n",
       "    <tr>\n",
       "      <th>12</th>\n",
       "      <td>1167957383</td>\n",
       "      <td>869666595</td>\n",
       "      <td>1</td>\n",
       "    </tr>\n",
       "    <tr>\n",
       "      <th>13</th>\n",
       "      <td>703989705</td>\n",
       "      <td>1113885022</td>\n",
       "      <td>1</td>\n",
       "    </tr>\n",
       "    <tr>\n",
       "      <th>14</th>\n",
       "      <td>1160103403</td>\n",
       "      <td>1160104266</td>\n",
       "      <td>1</td>\n",
       "    </tr>\n",
       "    <tr>\n",
       "      <th>15</th>\n",
       "      <td>1248973744</td>\n",
       "      <td>1451232098</td>\n",
       "      <td>1</td>\n",
       "    </tr>\n",
       "    <tr>\n",
       "      <th>16</th>\n",
       "      <td>482326369</td>\n",
       "      <td>394852519</td>\n",
       "      <td>0</td>\n",
       "    </tr>\n",
       "    <tr>\n",
       "      <th>17</th>\n",
       "      <td>854207342</td>\n",
       "      <td>845529937</td>\n",
       "      <td>0</td>\n",
       "    </tr>\n",
       "    <tr>\n",
       "      <th>18</th>\n",
       "      <td>1326022612</td>\n",
       "      <td>1563530020</td>\n",
       "      <td>0</td>\n",
       "    </tr>\n",
       "    <tr>\n",
       "      <th>19</th>\n",
       "      <td>778485730</td>\n",
       "      <td>854121735</td>\n",
       "      <td>0</td>\n",
       "    </tr>\n",
       "  </tbody>\n",
       "</table>\n",
       "</div>"
      ],
      "text/plain": [
       "    variantid1  variantid2  target\n",
       "0   1447875869  1447872068       1\n",
       "1   1176231201   284733670       1\n",
       "2    658617865   549848659       0\n",
       "3    719320625   719370486       1\n",
       "4   1067645658   949954740       0\n",
       "5    504121134   304997246       0\n",
       "6    690909146  1044397832       1\n",
       "7    691943502   691868704       0\n",
       "8    479881093   256110461       1\n",
       "9    905617449   905617985       0\n",
       "10  1480713775  1382097913       1\n",
       "11   534922190   632061463       0\n",
       "12  1167957383   869666595       1\n",
       "13   703989705  1113885022       1\n",
       "14  1160103403  1160104266       1\n",
       "15  1248973744  1451232098       1\n",
       "16   482326369   394852519       0\n",
       "17   854207342   845529937       0\n",
       "18  1326022612  1563530020       0\n",
       "19   778485730   854121735       0"
      ]
     },
     "execution_count": 13,
     "metadata": {},
     "output_type": "execute_result"
    }
   ],
   "source": [
    "train.head(20)"
   ]
  },
  {
   "cell_type": "code",
   "execution_count": 14,
   "id": "fd8f335b",
   "metadata": {
    "execution": {
     "iopub.execute_input": "2024-08-21T13:15:23.470995Z",
     "iopub.status.busy": "2024-08-21T13:15:23.470696Z",
     "iopub.status.idle": "2024-08-21T13:15:23.475838Z",
     "shell.execute_reply": "2024-08-21T13:15:23.475022Z"
    },
    "papermill": {
     "duration": 0.017195,
     "end_time": "2024-08-21T13:15:23.477637",
     "exception": false,
     "start_time": "2024-08-21T13:15:23.460442",
     "status": "completed"
    },
    "tags": []
   },
   "outputs": [
    {
     "data": {
      "text/plain": [
       "(1168516, 3)"
      ]
     },
     "execution_count": 14,
     "metadata": {},
     "output_type": "execute_result"
    }
   ],
   "source": [
    "train.shape"
   ]
  },
  {
   "cell_type": "code",
   "execution_count": 15,
   "id": "15d16fd4",
   "metadata": {
    "execution": {
     "iopub.execute_input": "2024-08-21T13:15:23.497967Z",
     "iopub.status.busy": "2024-08-21T13:15:23.497736Z",
     "iopub.status.idle": "2024-08-21T13:15:23.994485Z",
     "shell.execute_reply": "2024-08-21T13:15:23.993629Z"
    },
    "papermill": {
     "duration": 0.509165,
     "end_time": "2024-08-21T13:15:23.996641",
     "exception": false,
     "start_time": "2024-08-21T13:15:23.487476",
     "status": "completed"
    },
    "tags": []
   },
   "outputs": [
    {
     "data": {
      "text/plain": [
       "variantid1\n",
       "80867485     27\n",
       "82275126     21\n",
       "80756052     18\n",
       "82151749     17\n",
       "82420948     15\n",
       "             ..\n",
       "740500181     1\n",
       "155424125     1\n",
       "622647741     1\n",
       "818264812     1\n",
       "746679690     1\n",
       "Name: count, Length: 1144158, dtype: int64"
      ]
     },
     "execution_count": 15,
     "metadata": {},
     "output_type": "execute_result"
    }
   ],
   "source": [
    "train['variantid1'].value_counts()"
   ]
  },
  {
   "cell_type": "code",
   "execution_count": 16,
   "id": "17c658f2",
   "metadata": {
    "execution": {
     "iopub.execute_input": "2024-08-21T13:15:24.017953Z",
     "iopub.status.busy": "2024-08-21T13:15:24.017663Z",
     "iopub.status.idle": "2024-08-21T13:15:24.841523Z",
     "shell.execute_reply": "2024-08-21T13:15:24.840613Z"
    },
    "papermill": {
     "duration": 0.836812,
     "end_time": "2024-08-21T13:15:24.843478",
     "exception": false,
     "start_time": "2024-08-21T13:15:24.006666",
     "status": "completed"
    },
    "tags": []
   },
   "outputs": [
    {
     "data": {
      "text/plain": [
       "(1144158, 1052905)"
      ]
     },
     "execution_count": 16,
     "metadata": {},
     "output_type": "execute_result"
    }
   ],
   "source": [
    "len(set(train['variantid1'])), len(set(train['variantid2']))"
   ]
  },
  {
   "cell_type": "code",
   "execution_count": 17,
   "id": "b0b1da8a",
   "metadata": {
    "execution": {
     "iopub.execute_input": "2024-08-21T13:15:24.864997Z",
     "iopub.status.busy": "2024-08-21T13:15:24.864712Z",
     "iopub.status.idle": "2024-08-21T13:15:24.878072Z",
     "shell.execute_reply": "2024-08-21T13:15:24.877257Z"
    },
    "papermill": {
     "duration": 0.026433,
     "end_time": "2024-08-21T13:15:24.880093",
     "exception": false,
     "start_time": "2024-08-21T13:15:24.853660",
     "status": "completed"
    },
    "tags": []
   },
   "outputs": [
    {
     "data": {
      "text/html": [
       "<div>\n",
       "<style scoped>\n",
       "    .dataframe tbody tr th:only-of-type {\n",
       "        vertical-align: middle;\n",
       "    }\n",
       "\n",
       "    .dataframe tbody tr th {\n",
       "        vertical-align: top;\n",
       "    }\n",
       "\n",
       "    .dataframe thead th {\n",
       "        text-align: right;\n",
       "    }\n",
       "</style>\n",
       "<table border=\"1\" class=\"dataframe\">\n",
       "  <thead>\n",
       "    <tr style=\"text-align: right;\">\n",
       "      <th></th>\n",
       "      <th>variantid1</th>\n",
       "      <th>variantid2</th>\n",
       "      <th>target</th>\n",
       "    </tr>\n",
       "  </thead>\n",
       "  <tbody>\n",
       "    <tr>\n",
       "      <th>58846</th>\n",
       "      <td>80867485</td>\n",
       "      <td>1479076886</td>\n",
       "      <td>0</td>\n",
       "    </tr>\n",
       "    <tr>\n",
       "      <th>111480</th>\n",
       "      <td>80867485</td>\n",
       "      <td>999631682</td>\n",
       "      <td>0</td>\n",
       "    </tr>\n",
       "    <tr>\n",
       "      <th>124872</th>\n",
       "      <td>80867485</td>\n",
       "      <td>1563449086</td>\n",
       "      <td>0</td>\n",
       "    </tr>\n",
       "    <tr>\n",
       "      <th>133636</th>\n",
       "      <td>80867485</td>\n",
       "      <td>1547894500</td>\n",
       "      <td>0</td>\n",
       "    </tr>\n",
       "    <tr>\n",
       "      <th>153282</th>\n",
       "      <td>80867485</td>\n",
       "      <td>1487286057</td>\n",
       "      <td>0</td>\n",
       "    </tr>\n",
       "    <tr>\n",
       "      <th>162464</th>\n",
       "      <td>80867485</td>\n",
       "      <td>1408959869</td>\n",
       "      <td>0</td>\n",
       "    </tr>\n",
       "    <tr>\n",
       "      <th>167036</th>\n",
       "      <td>80867485</td>\n",
       "      <td>1459600753</td>\n",
       "      <td>0</td>\n",
       "    </tr>\n",
       "    <tr>\n",
       "      <th>267623</th>\n",
       "      <td>80867485</td>\n",
       "      <td>1255161803</td>\n",
       "      <td>0</td>\n",
       "    </tr>\n",
       "    <tr>\n",
       "      <th>288737</th>\n",
       "      <td>80867485</td>\n",
       "      <td>1474553386</td>\n",
       "      <td>0</td>\n",
       "    </tr>\n",
       "    <tr>\n",
       "      <th>422951</th>\n",
       "      <td>80867485</td>\n",
       "      <td>1415581301</td>\n",
       "      <td>0</td>\n",
       "    </tr>\n",
       "    <tr>\n",
       "      <th>458914</th>\n",
       "      <td>80867485</td>\n",
       "      <td>1495842198</td>\n",
       "      <td>0</td>\n",
       "    </tr>\n",
       "    <tr>\n",
       "      <th>467455</th>\n",
       "      <td>80867485</td>\n",
       "      <td>1334081733</td>\n",
       "      <td>0</td>\n",
       "    </tr>\n",
       "    <tr>\n",
       "      <th>468393</th>\n",
       "      <td>80867485</td>\n",
       "      <td>1374498486</td>\n",
       "      <td>0</td>\n",
       "    </tr>\n",
       "    <tr>\n",
       "      <th>497931</th>\n",
       "      <td>80867485</td>\n",
       "      <td>1443351439</td>\n",
       "      <td>0</td>\n",
       "    </tr>\n",
       "    <tr>\n",
       "      <th>522357</th>\n",
       "      <td>80867485</td>\n",
       "      <td>1162713342</td>\n",
       "      <td>0</td>\n",
       "    </tr>\n",
       "    <tr>\n",
       "      <th>671902</th>\n",
       "      <td>80867485</td>\n",
       "      <td>937035785</td>\n",
       "      <td>0</td>\n",
       "    </tr>\n",
       "    <tr>\n",
       "      <th>714602</th>\n",
       "      <td>80867485</td>\n",
       "      <td>1468322576</td>\n",
       "      <td>0</td>\n",
       "    </tr>\n",
       "    <tr>\n",
       "      <th>726623</th>\n",
       "      <td>80867485</td>\n",
       "      <td>1496097330</td>\n",
       "      <td>0</td>\n",
       "    </tr>\n",
       "    <tr>\n",
       "      <th>795949</th>\n",
       "      <td>80867485</td>\n",
       "      <td>1507691312</td>\n",
       "      <td>0</td>\n",
       "    </tr>\n",
       "    <tr>\n",
       "      <th>879464</th>\n",
       "      <td>80867485</td>\n",
       "      <td>1503823425</td>\n",
       "      <td>0</td>\n",
       "    </tr>\n",
       "    <tr>\n",
       "      <th>938063</th>\n",
       "      <td>80867485</td>\n",
       "      <td>1468674117</td>\n",
       "      <td>0</td>\n",
       "    </tr>\n",
       "    <tr>\n",
       "      <th>940820</th>\n",
       "      <td>80867485</td>\n",
       "      <td>1311746303</td>\n",
       "      <td>0</td>\n",
       "    </tr>\n",
       "    <tr>\n",
       "      <th>1014673</th>\n",
       "      <td>80867485</td>\n",
       "      <td>1228514347</td>\n",
       "      <td>0</td>\n",
       "    </tr>\n",
       "    <tr>\n",
       "      <th>1033690</th>\n",
       "      <td>80867485</td>\n",
       "      <td>1479159514</td>\n",
       "      <td>0</td>\n",
       "    </tr>\n",
       "    <tr>\n",
       "      <th>1094656</th>\n",
       "      <td>80867485</td>\n",
       "      <td>1459635858</td>\n",
       "      <td>0</td>\n",
       "    </tr>\n",
       "    <tr>\n",
       "      <th>1099812</th>\n",
       "      <td>80867485</td>\n",
       "      <td>1408904697</td>\n",
       "      <td>0</td>\n",
       "    </tr>\n",
       "    <tr>\n",
       "      <th>1148101</th>\n",
       "      <td>80867485</td>\n",
       "      <td>1222595594</td>\n",
       "      <td>0</td>\n",
       "    </tr>\n",
       "  </tbody>\n",
       "</table>\n",
       "</div>"
      ],
      "text/plain": [
       "         variantid1  variantid2  target\n",
       "58846      80867485  1479076886       0\n",
       "111480     80867485   999631682       0\n",
       "124872     80867485  1563449086       0\n",
       "133636     80867485  1547894500       0\n",
       "153282     80867485  1487286057       0\n",
       "162464     80867485  1408959869       0\n",
       "167036     80867485  1459600753       0\n",
       "267623     80867485  1255161803       0\n",
       "288737     80867485  1474553386       0\n",
       "422951     80867485  1415581301       0\n",
       "458914     80867485  1495842198       0\n",
       "467455     80867485  1334081733       0\n",
       "468393     80867485  1374498486       0\n",
       "497931     80867485  1443351439       0\n",
       "522357     80867485  1162713342       0\n",
       "671902     80867485   937035785       0\n",
       "714602     80867485  1468322576       0\n",
       "726623     80867485  1496097330       0\n",
       "795949     80867485  1507691312       0\n",
       "879464     80867485  1503823425       0\n",
       "938063     80867485  1468674117       0\n",
       "940820     80867485  1311746303       0\n",
       "1014673    80867485  1228514347       0\n",
       "1033690    80867485  1479159514       0\n",
       "1094656    80867485  1459635858       0\n",
       "1099812    80867485  1408904697       0\n",
       "1148101    80867485  1222595594       0"
      ]
     },
     "execution_count": 17,
     "metadata": {},
     "output_type": "execute_result"
    }
   ],
   "source": [
    "train[train['variantid1']==80867485]"
   ]
  },
  {
   "cell_type": "code",
   "execution_count": 18,
   "id": "8cf6e71c",
   "metadata": {
    "execution": {
     "iopub.execute_input": "2024-08-21T13:15:24.902179Z",
     "iopub.status.busy": "2024-08-21T13:15:24.901934Z",
     "iopub.status.idle": "2024-08-21T13:15:24.909459Z",
     "shell.execute_reply": "2024-08-21T13:15:24.908639Z"
    },
    "papermill": {
     "duration": 0.020308,
     "end_time": "2024-08-21T13:15:24.911255",
     "exception": false,
     "start_time": "2024-08-21T13:15:24.890947",
     "status": "completed"
    },
    "tags": []
   },
   "outputs": [],
   "source": [
    "def merge_data(train, resnet, attr):\n",
    "    train_data = train.merge(resnet[['variantid', 'main_pic_embeddings_resnet_v1']], left_on='variantid1', right_on='variantid', how='left')\n",
    "    train_data = train_data.rename(columns={'main_pic_embeddings_resnet_v1': 'pic_embeddings_1'})\n",
    "    train_data = train_data.drop(columns=['variantid'])\n",
    "\n",
    "    train_data = train_data.merge(resnet[['variantid', 'main_pic_embeddings_resnet_v1']], left_on='variantid2', right_on='variantid', how='left')\n",
    "    train_data = train_data.rename(columns={'main_pic_embeddings_resnet_v1': 'pic_embeddings_2'})\n",
    "    train_data = train_data.drop(columns=['variantid'])\n",
    "    \n",
    "    train_data = train_data.merge(attr[['variantid','combined_text']], left_on='variantid1', right_on='variantid', how='left')\n",
    "    train_data = train_data.drop(columns=['variantid'])\n",
    "    train_data = train_data.merge(attr[['variantid','combined_text']], left_on='variantid2', right_on='variantid', how='left')\n",
    "    train_data = train_data.drop(columns=['variantid'])\n",
    "    #train_data = train_data.dropna()\n",
    "\n",
    "    return train_data\n"
   ]
  },
  {
   "cell_type": "code",
   "execution_count": 19,
   "id": "bf6c0aad",
   "metadata": {
    "execution": {
     "iopub.execute_input": "2024-08-21T13:15:24.932806Z",
     "iopub.status.busy": "2024-08-21T13:15:24.932547Z",
     "iopub.status.idle": "2024-08-21T13:15:24.937981Z",
     "shell.execute_reply": "2024-08-21T13:15:24.937154Z"
    },
    "papermill": {
     "duration": 0.018431,
     "end_time": "2024-08-21T13:15:24.939857",
     "exception": false,
     "start_time": "2024-08-21T13:15:24.921426",
     "status": "completed"
    },
    "tags": []
   },
   "outputs": [],
   "source": [
    "def extract_text_from_row(categories, attributes):\n",
    "    category_text = ' '.join(\n",
    "        [' '.join(map(str, v)) if isinstance(v, list) else str(v) for v in categories.values()]\n",
    "    )\n",
    "    \n",
    "    attributes_text = ' '.join(\n",
    "        [' '.join(map(str, v)) if isinstance(v, list) else str(v) for v in attributes.values()]\n",
    "    )\n",
    "    \n",
    "    return f\"{category_text} {attributes_text}\"\n",
    "\n"
   ]
  },
  {
   "cell_type": "code",
   "execution_count": 20,
   "id": "5033ecf2",
   "metadata": {
    "execution": {
     "iopub.execute_input": "2024-08-21T13:15:24.961054Z",
     "iopub.status.busy": "2024-08-21T13:15:24.960825Z",
     "iopub.status.idle": "2024-08-21T13:15:24.965659Z",
     "shell.execute_reply": "2024-08-21T13:15:24.964877Z"
    },
    "papermill": {
     "duration": 0.017549,
     "end_time": "2024-08-21T13:15:24.967497",
     "exception": false,
     "start_time": "2024-08-21T13:15:24.949948",
     "status": "completed"
    },
    "tags": []
   },
   "outputs": [],
   "source": [
    "def process_atrr(df):\n",
    "\n",
    "    df[['categories', 'characteristic_attributes_mapping']] = df[['categories', 'characteristic_attributes_mapping']].applymap(json.loads)\n",
    "    df['combined_text'] = [\n",
    "        extract_text_from_row(row['categories'], row['characteristic_attributes_mapping'])\n",
    "        for _, row in df.iterrows()\n",
    "    ]\n",
    "    \n",
    "    return df\n"
   ]
  },
  {
   "cell_type": "code",
   "execution_count": 21,
   "id": "9684f0bb",
   "metadata": {
    "execution": {
     "iopub.execute_input": "2024-08-21T13:15:24.988689Z",
     "iopub.status.busy": "2024-08-21T13:15:24.988452Z",
     "iopub.status.idle": "2024-08-21T13:19:17.137746Z",
     "shell.execute_reply": "2024-08-21T13:19:17.136691Z"
    },
    "papermill": {
     "duration": 232.16262,
     "end_time": "2024-08-21T13:19:17.140272",
     "exception": false,
     "start_time": "2024-08-21T13:15:24.977652",
     "status": "completed"
    },
    "tags": []
   },
   "outputs": [
    {
     "name": "stderr",
     "output_type": "stream",
     "text": [
      "/tmp/ipykernel_23/3437790703.py:3: FutureWarning: DataFrame.applymap has been deprecated. Use DataFrame.map instead.\n",
      "  df[['categories', 'characteristic_attributes_mapping']] = df[['categories', 'characteristic_attributes_mapping']].applymap(json.loads)\n"
     ]
    }
   ],
   "source": [
    "attr_data = process_atrr(attr)"
   ]
  },
  {
   "cell_type": "code",
   "execution_count": 22,
   "id": "d196d6d4",
   "metadata": {
    "execution": {
     "iopub.execute_input": "2024-08-21T13:19:17.162979Z",
     "iopub.status.busy": "2024-08-21T13:19:17.162667Z",
     "iopub.status.idle": "2024-08-21T13:19:17.291992Z",
     "shell.execute_reply": "2024-08-21T13:19:17.291047Z"
    },
    "papermill": {
     "duration": 0.143174,
     "end_time": "2024-08-21T13:19:17.294505",
     "exception": false,
     "start_time": "2024-08-21T13:19:17.151331",
     "status": "completed"
    },
    "tags": []
   },
   "outputs": [
    {
     "data": {
      "text/html": [
       "<div>\n",
       "<style scoped>\n",
       "    .dataframe tbody tr th:only-of-type {\n",
       "        vertical-align: middle;\n",
       "    }\n",
       "\n",
       "    .dataframe tbody tr th {\n",
       "        vertical-align: top;\n",
       "    }\n",
       "\n",
       "    .dataframe thead th {\n",
       "        text-align: right;\n",
       "    }\n",
       "</style>\n",
       "<table border=\"1\" class=\"dataframe\">\n",
       "  <thead>\n",
       "    <tr style=\"text-align: right;\">\n",
       "      <th></th>\n",
       "      <th>variantid</th>\n",
       "      <th>categories</th>\n",
       "      <th>characteristic_attributes_mapping</th>\n",
       "      <th>combined_text</th>\n",
       "    </tr>\n",
       "  </thead>\n",
       "  <tbody>\n",
       "    <tr>\n",
       "      <th>1607853</th>\n",
       "      <td>1389931978</td>\n",
       "      <td>{'1': 'EPG', '2': 'Мебель', '3': 'Полки и стел...</td>\n",
       "      <td>{'Глубина, см': ['30'], 'Материал корпуса': ['...</td>\n",
       "      <td>EPG Мебель Полки и стеллажи Полка 30 ЛДСП Мета...</td>\n",
       "    </tr>\n",
       "    <tr>\n",
       "      <th>2053313</th>\n",
       "      <td>1090773387</td>\n",
       "      <td>{'1': 'EPG', '2': 'Детские товары', '3': 'Игру...</td>\n",
       "      <td>{'Цвет товара': ['розовый', 'светло-розовый'],...</td>\n",
       "      <td>EPG Детские товары Игрушки Мягкая игрушка розо...</td>\n",
       "    </tr>\n",
       "    <tr>\n",
       "      <th>1971395</th>\n",
       "      <td>1798989934</td>\n",
       "      <td>{'1': 'EPG', '2': 'Товары для животных', '3': ...</td>\n",
       "      <td>{'Размер одежды/аксессуара для животных': ['L'...</td>\n",
       "      <td>EPG Товары для животных Аксессуар для прогулки...</td>\n",
       "    </tr>\n",
       "    <tr>\n",
       "      <th>1258122</th>\n",
       "      <td>519387642</td>\n",
       "      <td>{'1': 'EPG', '2': 'Электроника', '3': 'Расходн...</td>\n",
       "      <td>{'Комплектация': ['тонер-картридж, упаковка'],...</td>\n",
       "      <td>EPG Электроника Расходные материалы для печати...</td>\n",
       "    </tr>\n",
       "    <tr>\n",
       "      <th>954813</th>\n",
       "      <td>1060728580</td>\n",
       "      <td>{'1': 'EPG', '2': 'Дом и сад', '3': 'Ковры и к...</td>\n",
       "      <td>{'Артикул': ['дискавери_99_1,5*6,0-дорожка'], ...</td>\n",
       "      <td>EPG Дом и сад Ковры и ковровые дорожки Ковер д...</td>\n",
       "    </tr>\n",
       "    <tr>\n",
       "      <th>806479</th>\n",
       "      <td>1510308348</td>\n",
       "      <td>{'1': 'EPG', '2': 'Автотовары', '3': 'Автохими...</td>\n",
       "      <td>{'Комплектация': ['Комплект: \n",
       "\n",
       "Подкраска для  ...</td>\n",
       "      <td>EPG Автотовары Автохимия и автокосметика Краск...</td>\n",
       "    </tr>\n",
       "    <tr>\n",
       "      <th>1839975</th>\n",
       "      <td>351493649</td>\n",
       "      <td>{'1': 'EPG', '2': 'Аптека', '3': 'Очки для зре...</td>\n",
       "      <td>{'Комплектация': ['Очки V.EYEWEAR с полимерным...</td>\n",
       "      <td>EPG Аптека Очки для зрения Коррегирующие очки ...</td>\n",
       "    </tr>\n",
       "    <tr>\n",
       "      <th>729501</th>\n",
       "      <td>961468529</td>\n",
       "      <td>{'1': 'EPG', '2': 'Автотовары', '3': 'Автозапч...</td>\n",
       "      <td>{'Артикул': ['KTB150'], 'Партномер (артикул пр...</td>\n",
       "      <td>EPG Автотовары Автозапчасти Основные автозапча...</td>\n",
       "    </tr>\n",
       "    <tr>\n",
       "      <th>970709</th>\n",
       "      <td>1550884130</td>\n",
       "      <td>{'1': 'Книги и цифровые книги', '2': 'Книги', ...</td>\n",
       "      <td>{'Переводчик': ['Волков Павел'], 'Год выпуска'...</td>\n",
       "      <td>Книги и цифровые книги Книги Печатные книги, ж...</td>\n",
       "    </tr>\n",
       "    <tr>\n",
       "      <th>1686272</th>\n",
       "      <td>942272183</td>\n",
       "      <td>{'1': 'Одежда и обувь', '2': 'Одежда', '3': 'Б...</td>\n",
       "      <td>{'Цвет товара': ['черный'], 'Тип': ['Чулки'], ...</td>\n",
       "      <td>Одежда и обувь Одежда Белье Чулки черный Чулки...</td>\n",
       "    </tr>\n",
       "  </tbody>\n",
       "</table>\n",
       "</div>"
      ],
      "text/plain": [
       "          variantid                                         categories  \\\n",
       "1607853  1389931978  {'1': 'EPG', '2': 'Мебель', '3': 'Полки и стел...   \n",
       "2053313  1090773387  {'1': 'EPG', '2': 'Детские товары', '3': 'Игру...   \n",
       "1971395  1798989934  {'1': 'EPG', '2': 'Товары для животных', '3': ...   \n",
       "1258122   519387642  {'1': 'EPG', '2': 'Электроника', '3': 'Расходн...   \n",
       "954813   1060728580  {'1': 'EPG', '2': 'Дом и сад', '3': 'Ковры и к...   \n",
       "806479   1510308348  {'1': 'EPG', '2': 'Автотовары', '3': 'Автохими...   \n",
       "1839975   351493649  {'1': 'EPG', '2': 'Аптека', '3': 'Очки для зре...   \n",
       "729501    961468529  {'1': 'EPG', '2': 'Автотовары', '3': 'Автозапч...   \n",
       "970709   1550884130  {'1': 'Книги и цифровые книги', '2': 'Книги', ...   \n",
       "1686272   942272183  {'1': 'Одежда и обувь', '2': 'Одежда', '3': 'Б...   \n",
       "\n",
       "                         characteristic_attributes_mapping  \\\n",
       "1607853  {'Глубина, см': ['30'], 'Материал корпуса': ['...   \n",
       "2053313  {'Цвет товара': ['розовый', 'светло-розовый'],...   \n",
       "1971395  {'Размер одежды/аксессуара для животных': ['L'...   \n",
       "1258122  {'Комплектация': ['тонер-картридж, упаковка'],...   \n",
       "954813   {'Артикул': ['дискавери_99_1,5*6,0-дорожка'], ...   \n",
       "806479   {'Комплектация': ['Комплект: \n",
       "\n",
       "Подкраска для  ...   \n",
       "1839975  {'Комплектация': ['Очки V.EYEWEAR с полимерным...   \n",
       "729501   {'Артикул': ['KTB150'], 'Партномер (артикул пр...   \n",
       "970709   {'Переводчик': ['Волков Павел'], 'Год выпуска'...   \n",
       "1686272  {'Цвет товара': ['черный'], 'Тип': ['Чулки'], ...   \n",
       "\n",
       "                                             combined_text  \n",
       "1607853  EPG Мебель Полки и стеллажи Полка 30 ЛДСП Мета...  \n",
       "2053313  EPG Детские товары Игрушки Мягкая игрушка розо...  \n",
       "1971395  EPG Товары для животных Аксессуар для прогулки...  \n",
       "1258122  EPG Электроника Расходные материалы для печати...  \n",
       "954813   EPG Дом и сад Ковры и ковровые дорожки Ковер д...  \n",
       "806479   EPG Автотовары Автохимия и автокосметика Краск...  \n",
       "1839975  EPG Аптека Очки для зрения Коррегирующие очки ...  \n",
       "729501   EPG Автотовары Автозапчасти Основные автозапча...  \n",
       "970709   Книги и цифровые книги Книги Печатные книги, ж...  \n",
       "1686272  Одежда и обувь Одежда Белье Чулки черный Чулки...  "
      ]
     },
     "execution_count": 22,
     "metadata": {},
     "output_type": "execute_result"
    }
   ],
   "source": [
    "attr_data.sample(10)"
   ]
  },
  {
   "cell_type": "code",
   "execution_count": 23,
   "id": "18346c2b",
   "metadata": {
    "execution": {
     "iopub.execute_input": "2024-08-21T13:19:17.319149Z",
     "iopub.status.busy": "2024-08-21T13:19:17.318844Z",
     "iopub.status.idle": "2024-08-21T13:19:17.415851Z",
     "shell.execute_reply": "2024-08-21T13:19:17.414909Z"
    },
    "papermill": {
     "duration": 0.111092,
     "end_time": "2024-08-21T13:19:17.417851",
     "exception": false,
     "start_time": "2024-08-21T13:19:17.306759",
     "status": "completed"
    },
    "tags": []
   },
   "outputs": [],
   "source": [
    "attr_data = attr_data.drop([\"categories\", \"characteristic_attributes_mapping\"], axis=1)"
   ]
  },
  {
   "cell_type": "code",
   "execution_count": 24,
   "id": "6f7d55a6",
   "metadata": {
    "execution": {
     "iopub.execute_input": "2024-08-21T13:19:17.441762Z",
     "iopub.status.busy": "2024-08-21T13:19:17.441491Z",
     "iopub.status.idle": "2024-08-21T13:19:23.637123Z",
     "shell.execute_reply": "2024-08-21T13:19:23.636095Z"
    },
    "papermill": {
     "duration": 6.20957,
     "end_time": "2024-08-21T13:19:23.639507",
     "exception": false,
     "start_time": "2024-08-21T13:19:17.429937",
     "status": "completed"
    },
    "tags": []
   },
   "outputs": [],
   "source": [
    "train_data = merge_data(train, res_emb, attr_data)"
   ]
  },
  {
   "cell_type": "code",
   "execution_count": 25,
   "id": "ae438a07",
   "metadata": {
    "execution": {
     "iopub.execute_input": "2024-08-21T13:19:23.662504Z",
     "iopub.status.busy": "2024-08-21T13:19:23.662187Z",
     "iopub.status.idle": "2024-08-21T13:19:23.708701Z",
     "shell.execute_reply": "2024-08-21T13:19:23.707838Z"
    },
    "papermill": {
     "duration": 0.059898,
     "end_time": "2024-08-21T13:19:23.710609",
     "exception": false,
     "start_time": "2024-08-21T13:19:23.650711",
     "status": "completed"
    },
    "tags": []
   },
   "outputs": [
    {
     "data": {
      "text/html": [
       "<div>\n",
       "<style scoped>\n",
       "    .dataframe tbody tr th:only-of-type {\n",
       "        vertical-align: middle;\n",
       "    }\n",
       "\n",
       "    .dataframe tbody tr th {\n",
       "        vertical-align: top;\n",
       "    }\n",
       "\n",
       "    .dataframe thead th {\n",
       "        text-align: right;\n",
       "    }\n",
       "</style>\n",
       "<table border=\"1\" class=\"dataframe\">\n",
       "  <thead>\n",
       "    <tr style=\"text-align: right;\">\n",
       "      <th></th>\n",
       "      <th>variantid1</th>\n",
       "      <th>variantid2</th>\n",
       "      <th>target</th>\n",
       "      <th>pic_embeddings_1</th>\n",
       "      <th>pic_embeddings_2</th>\n",
       "      <th>combined_text_x</th>\n",
       "      <th>combined_text_y</th>\n",
       "    </tr>\n",
       "  </thead>\n",
       "  <tbody>\n",
       "    <tr>\n",
       "      <th>0</th>\n",
       "      <td>1447875869</td>\n",
       "      <td>1447872068</td>\n",
       "      <td>1</td>\n",
       "      <td>[[0.5318107604980469, 0.35363996028900146, -0....</td>\n",
       "      <td>[[0.5318107604980469, 0.35363996028900146, -0....</td>\n",
       "      <td>Одежда и обувь Одежда Одежда Свитер, джемпер H...</td>\n",
       "      <td>Одежда и обувь Одежда Одежда Свитер, джемпер H...</td>\n",
       "    </tr>\n",
       "    <tr>\n",
       "      <th>1</th>\n",
       "      <td>1176231201</td>\n",
       "      <td>284733670</td>\n",
       "      <td>1</td>\n",
       "      <td>[[0.4308440089225769, 0.7620932459831238, 0.79...</td>\n",
       "      <td>[[0.5668608546257019, 0.9573432803153992, 1.01...</td>\n",
       "      <td>EPG Товары для взрослых БДСМ Наручники и фикса...</td>\n",
       "      <td>EPG Товары для взрослых БДСМ Наручники и фикса...</td>\n",
       "    </tr>\n",
       "    <tr>\n",
       "      <th>2</th>\n",
       "      <td>658617865</td>\n",
       "      <td>549848659</td>\n",
       "      <td>0</td>\n",
       "      <td>[[-0.36238163709640503, 0.4316844344139099, -0...</td>\n",
       "      <td>[[-0.25123998522758484, 0.3757574260234833, -0...</td>\n",
       "      <td>EPG Товары для животных Корма и лакомства для ...</td>\n",
       "      <td>EPG Товары для животных Корма и лакомства для ...</td>\n",
       "    </tr>\n",
       "    <tr>\n",
       "      <th>3</th>\n",
       "      <td>719320625</td>\n",
       "      <td>719370486</td>\n",
       "      <td>1</td>\n",
       "      <td>[[0.7327960729598999, -0.7488707900047302, 0.5...</td>\n",
       "      <td>[[0.7327960729598999, -0.7488707900047302, 0.5...</td>\n",
       "      <td>EPG Строительство и ремонт Расходники для инст...</td>\n",
       "      <td>EPG Строительство и ремонт Расходники для инст...</td>\n",
       "    </tr>\n",
       "    <tr>\n",
       "      <th>4</th>\n",
       "      <td>1067645658</td>\n",
       "      <td>949954740</td>\n",
       "      <td>0</td>\n",
       "      <td>[[-1.3140270709991455, -0.8071212768554688, 0....</td>\n",
       "      <td>[[-0.49589139223098755, -0.5760805606842041, 0...</td>\n",
       "      <td>EPG Канцелярские товары Пенал Пенал Товар пост...</td>\n",
       "      <td>EPG Канцелярские товары Пенал Пенал розовый Не...</td>\n",
       "    </tr>\n",
       "    <tr>\n",
       "      <th>...</th>\n",
       "      <td>...</td>\n",
       "      <td>...</td>\n",
       "      <td>...</td>\n",
       "      <td>...</td>\n",
       "      <td>...</td>\n",
       "      <td>...</td>\n",
       "      <td>...</td>\n",
       "    </tr>\n",
       "    <tr>\n",
       "      <th>1168511</th>\n",
       "      <td>970087885</td>\n",
       "      <td>944020046</td>\n",
       "      <td>0</td>\n",
       "      <td>[[-0.5370045900344849, 0.14626435935497284, 0....</td>\n",
       "      <td>[[-0.5370045900344849, 0.14626435935497284, 0....</td>\n",
       "      <td>EPG Строительство и ремонт Лампочка Лампочка Л...</td>\n",
       "      <td>EPG Строительство и ремонт Лампочка Лампочка Л...</td>\n",
       "    </tr>\n",
       "    <tr>\n",
       "      <th>1168512</th>\n",
       "      <td>834554806</td>\n",
       "      <td>118393780</td>\n",
       "      <td>1</td>\n",
       "      <td>[[0.17166948318481445, 0.2693502604961395, 0.0...</td>\n",
       "      <td>[[0.17166948318481445, 0.2693502604961395, 0.0...</td>\n",
       "      <td>EPG Электроника Расходные материалы для печати...</td>\n",
       "      <td>EPG Электроника Расходные материалы для печати...</td>\n",
       "    </tr>\n",
       "    <tr>\n",
       "      <th>1168513</th>\n",
       "      <td>1473905394</td>\n",
       "      <td>1473908406</td>\n",
       "      <td>1</td>\n",
       "      <td>[[-0.7199546098709106, -0.22784380614757538, -...</td>\n",
       "      <td>[[-0.7199546098709106, -0.22784380614757538, -...</td>\n",
       "      <td>Одежда и обувь Одежда Спецодежда Рабочая одежд...</td>\n",
       "      <td>Одежда и обувь Одежда Спецодежда Рабочая одежд...</td>\n",
       "    </tr>\n",
       "    <tr>\n",
       "      <th>1168514</th>\n",
       "      <td>104892989</td>\n",
       "      <td>1549506903</td>\n",
       "      <td>1</td>\n",
       "      <td>[[-0.560542643070221, -0.8331247568130493, 0.2...</td>\n",
       "      <td>[[-0.561845064163208, -0.8333196640014648, 0.2...</td>\n",
       "      <td>Одежда и обувь Одежда Спецодежда Рабочая одежд...</td>\n",
       "      <td>Одежда и обувь Одежда Спецодежда Рабочая одежд...</td>\n",
       "    </tr>\n",
       "    <tr>\n",
       "      <th>1168515</th>\n",
       "      <td>1370539398</td>\n",
       "      <td>1306446495</td>\n",
       "      <td>1</td>\n",
       "      <td>[[0.7450823783874512, -0.012278974056243896, 0...</td>\n",
       "      <td>[[0.7450823783874512, -0.012278974056243896, 0...</td>\n",
       "      <td>Одежда и обувь Обувь Повседневная обувь Кроссо...</td>\n",
       "      <td>Одежда и обувь Обувь Повседневная обувь Кроссо...</td>\n",
       "    </tr>\n",
       "  </tbody>\n",
       "</table>\n",
       "<p>1168516 rows × 7 columns</p>\n",
       "</div>"
      ],
      "text/plain": [
       "         variantid1  variantid2  target  \\\n",
       "0        1447875869  1447872068       1   \n",
       "1        1176231201   284733670       1   \n",
       "2         658617865   549848659       0   \n",
       "3         719320625   719370486       1   \n",
       "4        1067645658   949954740       0   \n",
       "...             ...         ...     ...   \n",
       "1168511   970087885   944020046       0   \n",
       "1168512   834554806   118393780       1   \n",
       "1168513  1473905394  1473908406       1   \n",
       "1168514   104892989  1549506903       1   \n",
       "1168515  1370539398  1306446495       1   \n",
       "\n",
       "                                          pic_embeddings_1  \\\n",
       "0        [[0.5318107604980469, 0.35363996028900146, -0....   \n",
       "1        [[0.4308440089225769, 0.7620932459831238, 0.79...   \n",
       "2        [[-0.36238163709640503, 0.4316844344139099, -0...   \n",
       "3        [[0.7327960729598999, -0.7488707900047302, 0.5...   \n",
       "4        [[-1.3140270709991455, -0.8071212768554688, 0....   \n",
       "...                                                    ...   \n",
       "1168511  [[-0.5370045900344849, 0.14626435935497284, 0....   \n",
       "1168512  [[0.17166948318481445, 0.2693502604961395, 0.0...   \n",
       "1168513  [[-0.7199546098709106, -0.22784380614757538, -...   \n",
       "1168514  [[-0.560542643070221, -0.8331247568130493, 0.2...   \n",
       "1168515  [[0.7450823783874512, -0.012278974056243896, 0...   \n",
       "\n",
       "                                          pic_embeddings_2  \\\n",
       "0        [[0.5318107604980469, 0.35363996028900146, -0....   \n",
       "1        [[0.5668608546257019, 0.9573432803153992, 1.01...   \n",
       "2        [[-0.25123998522758484, 0.3757574260234833, -0...   \n",
       "3        [[0.7327960729598999, -0.7488707900047302, 0.5...   \n",
       "4        [[-0.49589139223098755, -0.5760805606842041, 0...   \n",
       "...                                                    ...   \n",
       "1168511  [[-0.5370045900344849, 0.14626435935497284, 0....   \n",
       "1168512  [[0.17166948318481445, 0.2693502604961395, 0.0...   \n",
       "1168513  [[-0.7199546098709106, -0.22784380614757538, -...   \n",
       "1168514  [[-0.561845064163208, -0.8333196640014648, 0.2...   \n",
       "1168515  [[0.7450823783874512, -0.012278974056243896, 0...   \n",
       "\n",
       "                                           combined_text_x  \\\n",
       "0        Одежда и обувь Одежда Одежда Свитер, джемпер H...   \n",
       "1        EPG Товары для взрослых БДСМ Наручники и фикса...   \n",
       "2        EPG Товары для животных Корма и лакомства для ...   \n",
       "3        EPG Строительство и ремонт Расходники для инст...   \n",
       "4        EPG Канцелярские товары Пенал Пенал Товар пост...   \n",
       "...                                                    ...   \n",
       "1168511  EPG Строительство и ремонт Лампочка Лампочка Л...   \n",
       "1168512  EPG Электроника Расходные материалы для печати...   \n",
       "1168513  Одежда и обувь Одежда Спецодежда Рабочая одежд...   \n",
       "1168514  Одежда и обувь Одежда Спецодежда Рабочая одежд...   \n",
       "1168515  Одежда и обувь Обувь Повседневная обувь Кроссо...   \n",
       "\n",
       "                                           combined_text_y  \n",
       "0        Одежда и обувь Одежда Одежда Свитер, джемпер H...  \n",
       "1        EPG Товары для взрослых БДСМ Наручники и фикса...  \n",
       "2        EPG Товары для животных Корма и лакомства для ...  \n",
       "3        EPG Строительство и ремонт Расходники для инст...  \n",
       "4        EPG Канцелярские товары Пенал Пенал розовый Не...  \n",
       "...                                                    ...  \n",
       "1168511  EPG Строительство и ремонт Лампочка Лампочка Л...  \n",
       "1168512  EPG Электроника Расходные материалы для печати...  \n",
       "1168513  Одежда и обувь Одежда Спецодежда Рабочая одежд...  \n",
       "1168514  Одежда и обувь Одежда Спецодежда Рабочая одежд...  \n",
       "1168515  Одежда и обувь Обувь Повседневная обувь Кроссо...  \n",
       "\n",
       "[1168516 rows x 7 columns]"
      ]
     },
     "execution_count": 25,
     "metadata": {},
     "output_type": "execute_result"
    }
   ],
   "source": [
    "train_data"
   ]
  },
  {
   "cell_type": "code",
   "execution_count": 26,
   "id": "3c6cf839",
   "metadata": {
    "execution": {
     "iopub.execute_input": "2024-08-21T13:19:23.734397Z",
     "iopub.status.busy": "2024-08-21T13:19:23.734131Z",
     "iopub.status.idle": "2024-08-21T13:19:28.751666Z",
     "shell.execute_reply": "2024-08-21T13:19:28.750731Z"
    },
    "papermill": {
     "duration": 5.031308,
     "end_time": "2024-08-21T13:19:28.753669",
     "exception": false,
     "start_time": "2024-08-21T13:19:23.722361",
     "status": "completed"
    },
    "tags": []
   },
   "outputs": [],
   "source": [
    "del res_emb\n",
    "del train\n",
    "del text_and_bert\n",
    "del attr"
   ]
  },
  {
   "cell_type": "code",
   "execution_count": 27,
   "id": "38996d8f",
   "metadata": {
    "execution": {
     "iopub.execute_input": "2024-08-21T13:19:28.785469Z",
     "iopub.status.busy": "2024-08-21T13:19:28.785168Z",
     "iopub.status.idle": "2024-08-21T13:19:28.834263Z",
     "shell.execute_reply": "2024-08-21T13:19:28.833421Z"
    },
    "papermill": {
     "duration": 0.070296,
     "end_time": "2024-08-21T13:19:28.836160",
     "exception": false,
     "start_time": "2024-08-21T13:19:28.765864",
     "status": "completed"
    },
    "tags": []
   },
   "outputs": [
    {
     "data": {
      "text/plain": [
       "0"
      ]
     },
     "execution_count": 27,
     "metadata": {},
     "output_type": "execute_result"
    }
   ],
   "source": [
    "import gc\n",
    "gc.collect()"
   ]
  },
  {
   "cell_type": "code",
   "execution_count": 28,
   "id": "ddd8d80a",
   "metadata": {
    "execution": {
     "iopub.execute_input": "2024-08-21T13:19:28.860208Z",
     "iopub.status.busy": "2024-08-21T13:19:28.859759Z",
     "iopub.status.idle": "2024-08-21T13:20:10.546470Z",
     "shell.execute_reply": "2024-08-21T13:20:10.545659Z"
    },
    "papermill": {
     "duration": 41.701127,
     "end_time": "2024-08-21T13:20:10.548850",
     "exception": false,
     "start_time": "2024-08-21T13:19:28.847723",
     "status": "completed"
    },
    "tags": []
   },
   "outputs": [],
   "source": [
    "train_data.to_parquet(\"train_data_without_textandbert_part.parquet\", engine='pyarrow', index=False)"
   ]
  }
 ],
 "metadata": {
  "kaggle": {
   "accelerator": "nvidiaTeslaT4",
   "dataSources": [
    {
     "datasetId": 5571035,
     "sourceId": 9213258,
     "sourceType": "datasetVersion"
    },
    {
     "datasetId": 5573649,
     "sourceId": 9217047,
     "sourceType": "datasetVersion"
    }
   ],
   "dockerImageVersionId": 30746,
   "isGpuEnabled": true,
   "isInternetEnabled": true,
   "language": "python",
   "sourceType": "notebook"
  },
  "kernelspec": {
   "display_name": "Python 3",
   "language": "python",
   "name": "python3"
  },
  "language_info": {
   "codemirror_mode": {
    "name": "ipython",
    "version": 3
   },
   "file_extension": ".py",
   "mimetype": "text/x-python",
   "name": "python",
   "nbconvert_exporter": "python",
   "pygments_lexer": "ipython3",
   "version": "3.10.13"
  },
  "papermill": {
   "default_parameters": {},
   "duration": 366.692452,
   "end_time": "2024-08-21T13:20:13.881617",
   "environment_variables": {},
   "exception": null,
   "input_path": "__notebook__.ipynb",
   "output_path": "__notebook__.ipynb",
   "parameters": {},
   "start_time": "2024-08-21T13:14:07.189165",
   "version": "2.5.0"
  }
 },
 "nbformat": 4,
 "nbformat_minor": 5
}
